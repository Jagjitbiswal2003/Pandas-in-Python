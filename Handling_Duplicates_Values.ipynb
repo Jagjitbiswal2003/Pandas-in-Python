{
 "cells": [
  {
   "cell_type": "code",
   "execution_count": 1,
   "id": "4f5d2c5e-0926-4a63-91ad-b64e5d63fe82",
   "metadata": {},
   "outputs": [],
   "source": [
    "import pandas as pd"
   ]
  },
  {
   "cell_type": "code",
   "execution_count": 3,
   "id": "a3cc7520-300f-4dd0-ac64-dccf620c1e69",
   "metadata": {},
   "outputs": [
    {
     "name": "stdout",
     "output_type": "stream",
     "text": [
      "   EMPID  AGE GENDER  SALARY\n",
      "0      1   20      M   20000\n",
      "1      2   34      F   30000\n",
      "2      3   19      M   40000\n",
      "3      4   20      F   20000\n",
      "4      1   45      M   50000\n"
     ]
    }
   ],
   "source": [
    "data = pd.read_excel(\"employee_data.xlsx\")\n",
    "print(data)"
   ]
  },
  {
   "cell_type": "code",
   "execution_count": 10,
   "id": "50fa8e97-1c87-4f4b-8f42-4c81d0bceed0",
   "metadata": {},
   "outputs": [
    {
     "name": "stdout",
     "output_type": "stream",
     "text": [
      "1\n"
     ]
    }
   ],
   "source": [
    "# Find duplicates\n",
    "# print(data[\"EMPID\"].duplicated()) # It shows true when it get duplicate value otherwise it shows false.\n",
    "print(data[\"EMPID\"].duplicated().sum())"
   ]
  },
  {
   "cell_type": "code",
   "execution_count": 11,
   "id": "eb895e97-c689-452a-9072-c9fff293dba4",
   "metadata": {},
   "outputs": [
    {
     "name": "stdout",
     "output_type": "stream",
     "text": [
      "   EMPID  AGE GENDER  SALARY\n",
      "0      1   20      M   20000\n",
      "1      2   34      F   30000\n",
      "2      3   19      M   40000\n",
      "3      4   20      F   20000\n"
     ]
    }
   ],
   "source": [
    "# Drop the duplicate value\n",
    "print(data.drop_duplicates(subset=\"EMPID\"))"
   ]
  },
  {
   "cell_type": "code",
   "execution_count": 13,
   "id": "dce155ab-d1c3-4b4f-9f13-fde74bdc47f5",
   "metadata": {},
   "outputs": [
    {
     "name": "stdout",
     "output_type": "stream",
     "text": [
      "1\n"
     ]
    }
   ],
   "source": [
    "print(data[\"EMPID\"].duplicated().sum())"
   ]
  },
  {
   "cell_type": "code",
   "execution_count": 14,
   "id": "5881ca9b-e3d9-4f4b-8281-c88c6ae79803",
   "metadata": {},
   "outputs": [
    {
     "name": "stdout",
     "output_type": "stream",
     "text": [
      "0    False\n",
      "1    False\n",
      "2    False\n",
      "3    False\n",
      "4     True\n",
      "Name: EMPID, dtype: bool\n"
     ]
    }
   ],
   "source": [
    "print(data[\"EMPID\"].duplicated())"
   ]
  },
  {
   "cell_type": "code",
   "execution_count": null,
   "id": "307a9c44-b5fc-4210-bbbd-fd64e17e19b8",
   "metadata": {},
   "outputs": [],
   "source": [
    "data.drop_duplicates(subset='Test_1', inplace=True)"
   ]
  }
 ],
 "metadata": {
  "kernelspec": {
   "display_name": "Python 3 (ipykernel)",
   "language": "python",
   "name": "python3"
  },
  "language_info": {
   "codemirror_mode": {
    "name": "ipython",
    "version": 3
   },
   "file_extension": ".py",
   "mimetype": "text/x-python",
   "name": "python",
   "nbconvert_exporter": "python",
   "pygments_lexer": "ipython3",
   "version": "3.12.3"
  }
 },
 "nbformat": 4,
 "nbformat_minor": 5
}
