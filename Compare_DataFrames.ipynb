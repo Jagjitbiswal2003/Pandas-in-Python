{
 "cells": [
  {
   "cell_type": "code",
   "execution_count": 1,
   "id": "2782c6a3-be6c-4ff2-89af-ab63af8a3ce2",
   "metadata": {},
   "outputs": [],
   "source": [
    "import pandas as pd"
   ]
  },
  {
   "cell_type": "code",
   "execution_count": 10,
   "id": "21007722-da6c-4e97-b321-1c866f9423bd",
   "metadata": {},
   "outputs": [
    {
     "name": "stdout",
     "output_type": "stream",
     "text": [
      "   Fruits  Amount  Quantity\n",
      "0   Apple     100        40\n",
      "1  Banana     200        50\n",
      "2   Mango     300        30\n",
      "3  Papaya     400        45\n",
      "4  Orange      90        59\n",
      "\n",
      "   Fruits  Amount  Quantity\n",
      "0   Apple     200        30\n",
      "1  Banana     300        46\n",
      "2   Mango     300        80\n",
      "3  Papaya      80        71\n",
      "4  Orange      90        59\n"
     ]
    }
   ],
   "source": [
    "data_1 = pd.DataFrame({\n",
    "        \"Fruits\":[\"Apple\",\"Banana\",\"Mango\",\"Papaya\",\"Orange\"],\n",
    "        \"Amount\":[100,200,300,400,90],\n",
    "        \"Quantity\":[40,50,30,45,59]\n",
    "})\n",
    "print(data_1)\n",
    "print()\n",
    "data_2 = data_1.copy()\n",
    "# Changes some value of data_2\n",
    "data_2.loc[0,\"Amount\"]=200\n",
    "data_2.loc[1,\"Amount\"]=300\n",
    "data_2.loc[3,\"Amount\"]=80\n",
    "\n",
    "data_2.loc[0,\"Quantity\"]=30\n",
    "data_2.loc[1,\"Quantity\"]=46\n",
    "data_2.loc[2,\"Quantity\"]=80\n",
    "data_2.loc[3,\"Quantity\"]=71\n",
    "\n",
    "print(data_2)"
   ]
  },
  {
   "cell_type": "code",
   "execution_count": 13,
   "id": "06647262-feff-4046-95d7-00f20f028ed7",
   "metadata": {},
   "outputs": [
    {
     "name": "stdout",
     "output_type": "stream",
     "text": [
      "         Amount  Quantity\n",
      "0 self    100.0      40.0\n",
      "  other   200.0      30.0\n",
      "1 self    200.0      50.0\n",
      "  other   300.0      46.0\n",
      "2 self      NaN      30.0\n",
      "  other     NaN      80.0\n",
      "3 self    400.0      45.0\n",
      "  other    80.0      71.0\n"
     ]
    }
   ],
   "source": [
    "# Compare two DataFrames\n",
    "print(data_1.compare(data_2,align_axis=0))  # by default align_axis=1"
   ]
  },
  {
   "cell_type": "code",
   "execution_count": null,
   "id": "21b555c1-07b3-44e5-be41-00851f46f200",
   "metadata": {},
   "outputs": [],
   "source": [
    "print(data_1.compare(data_2,"
   ]
  }
 ],
 "metadata": {
  "kernelspec": {
   "display_name": "Python 3 (ipykernel)",
   "language": "python",
   "name": "python3"
  },
  "language_info": {
   "codemirror_mode": {
    "name": "ipython",
    "version": 3
   },
   "file_extension": ".py",
   "mimetype": "text/x-python",
   "name": "python",
   "nbconvert_exporter": "python",
   "pygments_lexer": "ipython3",
   "version": "3.12.3"
  }
 },
 "nbformat": 4,
 "nbformat_minor": 5
}
