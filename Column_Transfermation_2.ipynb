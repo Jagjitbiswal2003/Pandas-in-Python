{
 "cells": [
  {
   "cell_type": "code",
   "execution_count": 1,
   "id": "88dbb858-1933-4ffc-86cb-87f2e0a88b96",
   "metadata": {},
   "outputs": [],
   "source": [
    "import pandas as pd"
   ]
  },
  {
   "cell_type": "code",
   "execution_count": 2,
   "id": "86f02277-72dd-45f3-abbb-274c92ebe095",
   "metadata": {},
   "outputs": [
    {
     "name": "stdout",
     "output_type": "stream",
     "text": [
      "   EMPID   AGE GENDER   SALARY\n",
      "0      1  20.0      M  20000.0\n",
      "1      2  34.0    NaN  30000.0\n",
      "2      3  19.0      M  40000.0\n",
      "3      4  20.0      F  20000.0\n",
      "4      1   NaN      M      NaN\n"
     ]
    }
   ],
   "source": [
    "data = pd.read_excel(\"employee_data.xlsx\")\n",
    "print(data)"
   ]
  },
  {
   "cell_type": "code",
   "execution_count": 3,
   "id": "b360224a-facc-43a9-81c8-26f7027466c7",
   "metadata": {},
   "outputs": [
    {
     "name": "stdout",
     "output_type": "stream",
     "text": [
      "   EMPID   AGE GENDER   SALARY   Bonus\n",
      "0      1  20.0      M  20000.0  4000.0\n",
      "1      2  34.0    NaN  30000.0  6000.0\n",
      "2      3  19.0      M  40000.0  8000.0\n",
      "3      4  20.0      F  20000.0  4000.0\n",
      "4      1   NaN      M      NaN     NaN\n"
     ]
    }
   ],
   "source": [
    "# Create a new column bonus which is 20% of salary\n",
    "data[\"Bonus\"] = (data[\"SALARY\"]/100)*20\n",
    "print(data)"
   ]
  },
  {
   "cell_type": "code",
   "execution_count": null,
   "id": "9f3cd178-596e-4de3-8ba3-5210162c34dc",
   "metadata": {},
   "outputs": [],
   "source": []
  }
 ],
 "metadata": {
  "kernelspec": {
   "display_name": "Python 3 (ipykernel)",
   "language": "python",
   "name": "python3"
  },
  "language_info": {
   "codemirror_mode": {
    "name": "ipython",
    "version": 3
   },
   "file_extension": ".py",
   "mimetype": "text/x-python",
   "name": "python",
   "nbconvert_exporter": "python",
   "pygments_lexer": "ipython3",
   "version": "3.12.3"
  }
 },
 "nbformat": 4,
 "nbformat_minor": 5
}
