{
 "cells": [
  {
   "cell_type": "code",
   "execution_count": 17,
   "id": "84805727-b3ac-4f69-9b4a-1eb375180cba",
   "metadata": {},
   "outputs": [],
   "source": [
    "import pandas as pd\n",
    "import numpy as np"
   ]
  },
  {
   "cell_type": "code",
   "execution_count": 18,
   "id": "ca5a8cf2-dc69-4bcc-9627-a999d51c93bc",
   "metadata": {},
   "outputs": [
    {
     "name": "stdout",
     "output_type": "stream",
     "text": [
      "   EMPID   AGE GENDER   SALARY\n",
      "0      1  20.0      M  20000.0\n",
      "1      2  34.0    NaN  30000.0\n",
      "2      3  19.0      M  40000.0\n",
      "3      4  20.0      F  20000.0\n",
      "4      1   NaN      M      NaN\n"
     ]
    }
   ],
   "source": [
    "data = pd.read_excel(\"employee_data.xlsx\")\n",
    "print(data)   # NaN stands for Not a Number and it is a empty value"
   ]
  },
  {
   "cell_type": "code",
   "execution_count": 19,
   "id": "f056137a-b457-49e3-8a2b-e2aad305820b",
   "metadata": {},
   "outputs": [
    {
     "name": "stdout",
     "output_type": "stream",
     "text": [
      "EMPID     0\n",
      "AGE       1\n",
      "GENDER    1\n",
      "SALARY    1\n",
      "dtype: int64\n"
     ]
    }
   ],
   "source": [
    "# Check the NaN or null value in data set\n",
    "print(data.isnull().sum())"
   ]
  },
  {
   "cell_type": "code",
   "execution_count": 20,
   "id": "d6f74259-4537-4bc3-be4b-7dec9d183df9",
   "metadata": {},
   "outputs": [
    {
     "name": "stdout",
     "output_type": "stream",
     "text": [
      "   EMPID   AGE GENDER   SALARY\n",
      "0      1  20.0      M  20000.0\n",
      "2      3  19.0      M  40000.0\n",
      "3      4  20.0      F  20000.0\n"
     ]
    }
   ],
   "source": [
    "#Drop or remove the NaN or null value(but you use this operation if the situation is demanding otherwise not)\n",
    "print(data.dropna())"
   ]
  },
  {
   "cell_type": "code",
   "execution_count": 21,
   "id": "f04718b6-e06c-4aa6-941b-5e82ba48858f",
   "metadata": {},
   "outputs": [
    {
     "name": "stdout",
     "output_type": "stream",
     "text": [
      "   EMPID   AGE GENDER   SALARY\n",
      "0      1  20.0      M  20000.0\n",
      "1      2  34.0     Hi  30000.0\n",
      "2      3  19.0      M  40000.0\n",
      "3      4  20.0      F  20000.0\n",
      "4      1    Hi      M       Hi\n"
     ]
    }
   ],
   "source": [
    "#Replace Nan or null values and this process is not appropriate to update the value of individuals but it effective when all nan values replace with same value.\n",
    "print(data.replace(np.nan,\"Hi\"))"
   ]
  },
  {
   "cell_type": "code",
   "execution_count": 23,
   "id": "869fd6f6-215f-4f96-9e05-bb4ed09a3449",
   "metadata": {},
   "outputs": [
    {
     "name": "stdout",
     "output_type": "stream",
     "text": [
      "   EMPID   AGE GENDER   SALARY\n",
      "0      1  20.0      M  20000.0\n",
      "1      2  34.0      F  30000.0\n",
      "2      3  19.0      M  40000.0\n",
      "3      4  20.0      F  20000.0\n",
      "4      1  45.0      M  28000.0\n"
     ]
    }
   ],
   "source": [
    "# Replace nan or null values with choosed or individual column\n",
    "salary = data[\"SALARY\"].mean() # using this method to replace data if the data is not given to insert in nan position\n",
    "data[\"SALARY\"] = data[\"SALARY\"].replace(np.nan,salary)\n",
    "data[\"GENDER\"] = data[\"GENDER\"].replace(np.nan,\"F\")\n",
    "data[\"AGE\"] = data[\"AGE\"].replace(np.nan,45)\n",
    "print(data)"
   ]
  },
  {
   "cell_type": "code",
   "execution_count": 28,
   "id": "9e9f0ab9-23bf-416b-9269-4691a3eebf76",
   "metadata": {},
   "outputs": [
    {
     "name": "stdout",
     "output_type": "stream",
     "text": [
      "   EMPID   AGE GENDER   SALARY\n",
      "0      1  20.0      M  20000.0\n",
      "1      2  34.0      F  30000.0\n",
      "2      3  19.0      M  40000.0\n",
      "3      4  20.0      F  20000.0\n",
      "4      1  45.0      M  28000.0\n",
      "   EMPID   AGE GENDER   SALARY\n",
      "0      1  20.0      M  20000.0\n",
      "1      2  34.0      F  30000.0\n",
      "2      3  19.0      M  40000.0\n",
      "3      4  20.0      F  20000.0\n",
      "4      1  45.0      M  28000.0\n"
     ]
    },
    {
     "name": "stderr",
     "output_type": "stream",
     "text": [
      "C:\\Users\\jagji\\AppData\\Local\\Temp\\ipykernel_12480\\2444971311.py:2: FutureWarning: DataFrame.fillna with 'method' is deprecated and will raise in a future version. Use obj.ffill() or obj.bfill() instead.\n",
      "  print(data.fillna(method=\"bfill\"))\n",
      "C:\\Users\\jagji\\AppData\\Local\\Temp\\ipykernel_12480\\2444971311.py:3: FutureWarning: DataFrame.fillna with 'method' is deprecated and will raise in a future version. Use obj.ffill() or obj.bfill() instead.\n",
      "  print(data.fillna(method=\"ffill\"))\n"
     ]
    }
   ],
   "source": [
    "# Backward fill and forward fill\n",
    "print(data.fillna(method=\"bfill\"))\n",
    "print(data.fillna(method=\"ffill\"))"
   ]
  },
  {
   "cell_type": "code",
   "execution_count": null,
   "id": "a8f4fd3d-8c3e-4673-8e37-f111fdd8eb47",
   "metadata": {},
   "outputs": [],
   "source": []
  }
 ],
 "metadata": {
  "kernelspec": {
   "display_name": "Python 3 (ipykernel)",
   "language": "python",
   "name": "python3"
  },
  "language_info": {
   "codemirror_mode": {
    "name": "ipython",
    "version": 3
   },
   "file_extension": ".py",
   "mimetype": "text/x-python",
   "name": "python",
   "nbconvert_exporter": "python",
   "pygments_lexer": "ipython3",
   "version": "3.12.3"
  }
 },
 "nbformat": 4,
 "nbformat_minor": 5
}
