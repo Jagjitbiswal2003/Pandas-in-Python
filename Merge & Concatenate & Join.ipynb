{
 "cells": [
  {
   "cell_type": "code",
   "execution_count": 5,
   "id": "5b129a1b-3d13-4f49-a1c8-f8719ef48bef",
   "metadata": {},
   "outputs": [],
   "source": [
    "import pandas as pd\n"
   ]
  },
  {
   "cell_type": "code",
   "execution_count": 28,
   "id": "b4dbfc5c-89d4-4173-9210-3fc43483fc45",
   "metadata": {},
   "outputs": [
    {
     "name": "stdout",
     "output_type": "stream",
     "text": [
      "  EMPID Name  Age\n",
      "0   E01    a   20\n",
      "1   E02    b   23\n",
      "2   EO3    c   24\n",
      "3   E04    d   19\n",
      "4   E05    e   29\n",
      "5   E06    f   35\n",
      "\n",
      "  EMPID  Salary\n",
      "0   E01   20000\n",
      "1   E07   23000\n",
      "2   EO3   24000\n",
      "3   E04   19090\n",
      "4   E08   29000\n",
      "5   E06   35100\n"
     ]
    }
   ],
   "source": [
    "data_1 =pd.DataFrame({\n",
    "    \"EMPID\":[\"E01\",\"E02\",\"EO3\",\"E04\",\"E05\",\"E06\"], \n",
    "    \"Name\":[\"a\",\"b\",\"c\",\"d\",\"e\",\"f\"],\n",
    "    \"Age\":[20,23,24,19,29,35]\n",
    "})\n",
    " \n",
    "data_2 =pd.DataFrame({\n",
    "    # \"EMPID\":[\"E01\",\"E02\",\"EO3\",\"E04\",\"E08\",\"E06\"], \n",
    "    \"EMPID\":[\"E01\",\"E07\",\"EO3\",\"E04\",\"E08\",\"E06\"], \n",
    "    \"Salary\":[20000,23000,24000,19090,29000,35100]\n",
    "})\n",
    "\n",
    "print(data_1)\n",
    "print()\n",
    "print(data_2)"
   ]
  },
  {
   "cell_type": "code",
   "execution_count": 17,
   "id": "7b698b6e-f2bb-4e2e-bcc1-83a8e9da98c7",
   "metadata": {},
   "outputs": [
    {
     "name": "stdout",
     "output_type": "stream",
     "text": [
      "  EMPID Name  Age  Salary\n",
      "0   E01    a   20   20000\n",
      "1   EO3    c   24   24000\n",
      "2   E04    d   19   19090\n",
      "3   E06    f   35   35100\n"
     ]
    }
   ],
   "source": [
    "# Merge two data sets on the basis of unique coloumn .The common values of unique coloumn is always merge using merge function.\n",
    "print(pd.merge(data_1,data_2, on = \"EMPID\"))"
   ]
  },
  {
   "cell_type": "code",
   "execution_count": 25,
   "id": "21efa399-3ba5-45ea-bf07-0941c8d36d9b",
   "metadata": {},
   "outputs": [
    {
     "name": "stdout",
     "output_type": "stream",
     "text": [
      "  EMPID Name  Age  Salary\n",
      "0   E01    a   20   20000\n",
      "1   EO3    c   24   24000\n",
      "2   E04    d   19   19090\n",
      "3   E06    f   35   35100\n"
     ]
    }
   ],
   "source": [
    "# Inner join is also known as merge.\n",
    "print(pd.merge(data_1,data_2,on=\"EMPID\",how=\"inner\"))"
   ]
  },
  {
   "cell_type": "code",
   "execution_count": 22,
   "id": "a5b32505-60c5-4094-9477-3fe5856c2354",
   "metadata": {},
   "outputs": [
    {
     "name": "stdout",
     "output_type": "stream",
     "text": [
      "  EMPID Name  Age   Salary\n",
      "0   E01    a   20  20000.0\n",
      "1   E02    b   23      NaN\n",
      "2   EO3    c   24  24000.0\n",
      "3   E04    d   19  19090.0\n",
      "4   E05    e   29      NaN\n",
      "5   E06    f   35  35100.0\n"
     ]
    }
   ],
   "source": [
    "# Left Join\n",
    "# print(pd.merge(left=data_1, right=data_2, on=\"EMPID\",how=\"left\"))  basic way of left join\n",
    "print(pd.merge(data_1,data_2,on=\"EMPID\",how=\"left\"))"
   ]
  },
  {
   "cell_type": "code",
   "execution_count": 23,
   "id": "6c4511b5-9b54-47b6-beff-c54bc6868191",
   "metadata": {},
   "outputs": [
    {
     "name": "stdout",
     "output_type": "stream",
     "text": [
      "  EMPID Name   Age  Salary\n",
      "0   E01    a  20.0   20000\n",
      "1   E07  NaN   NaN   23000\n",
      "2   EO3    c  24.0   24000\n",
      "3   E04    d  19.0   19090\n",
      "4   E08  NaN   NaN   29000\n",
      "5   E06    f  35.0   35100\n"
     ]
    }
   ],
   "source": [
    "#Right Join\n",
    "#print(pd.merge(left=data_1, right=data_2 ,on=\"EMPID\",how=\"right\"))  basic way of right join\n",
    "print(pd.merge(data_1,data_2,on=\"EMPID\",how=\"right\"))"
   ]
  },
  {
   "cell_type": "code",
   "execution_count": 26,
   "id": "9005954c-8621-42b9-ab1d-3845bbd8802f",
   "metadata": {},
   "outputs": [
    {
     "name": "stdout",
     "output_type": "stream",
     "text": [
      "  EMPID Name  Age\n",
      "0   E01    a   20\n",
      "1   E02    b   23\n",
      "2   EO3    c   24\n",
      "3   E04    d   19\n",
      "4   E05    e   29\n",
      "5   E06    f   35\n",
      "\n",
      "  EMPID Name  Age\n",
      "0   E07    g   21\n",
      "1   E08    h   24\n",
      "2   EO9    i   20\n",
      "3   E10    j   18\n",
      "4   E11    k   40\n",
      "5   E12    l   50\n"
     ]
    }
   ],
   "source": [
    "# Concate- two data sets must be similar\n",
    "data_1 =pd.DataFrame({\n",
    "    \"EMPID\":[\"E01\",\"E02\",\"EO3\",\"E04\",\"E05\",\"E06\"], \n",
    "    \"Name\":[\"a\",\"b\",\"c\",\"d\",\"e\",\"f\"],\n",
    "    \"Age\":[20,23,24,19,29,35]\n",
    "})\n",
    " \n",
    "data_2 =pd.DataFrame({\n",
    "     \"EMPID\":[\"E07\",\"E08\",\"EO9\",\"E10\",\"E11\",\"E12\"], \n",
    "     \"Name\":[\"g\",\"h\",\"i\",\"j\",\"k\",\"l\"],\n",
    "     \"Age\":[21,24,20,18,40,50]\n",
    "})\n",
    "\n",
    "print(data_1)\n",
    "print()\n",
    "print(data_2)"
   ]
  },
  {
   "cell_type": "code",
   "execution_count": 27,
   "id": "bebc240f-2ce9-4da5-bc49-77789f4007e5",
   "metadata": {},
   "outputs": [
    {
     "name": "stdout",
     "output_type": "stream",
     "text": [
      "  EMPID Name  Age\n",
      "0   E01    a   20\n",
      "1   E02    b   23\n",
      "2   EO3    c   24\n",
      "3   E04    d   19\n",
      "4   E05    e   29\n",
      "5   E06    f   35\n",
      "0   E07    g   21\n",
      "1   E08    h   24\n",
      "2   EO9    i   20\n",
      "3   E10    j   18\n",
      "4   E11    k   40\n",
      "5   E12    l   50\n"
     ]
    }
   ],
   "source": [
    "print(pd.concat([data_1,data_2]))"
   ]
  },
  {
   "cell_type": "code",
   "execution_count": null,
   "id": "70f60a61-ab68-4913-9fb6-7369888de247",
   "metadata": {},
   "outputs": [],
   "source": []
  }
 ],
 "metadata": {
  "kernelspec": {
   "display_name": "Python 3 (ipykernel)",
   "language": "python",
   "name": "python3"
  },
  "language_info": {
   "codemirror_mode": {
    "name": "ipython",
    "version": 3
   },
   "file_extension": ".py",
   "mimetype": "text/x-python",
   "name": "python",
   "nbconvert_exporter": "python",
   "pygments_lexer": "ipython3",
   "version": "3.12.3"
  }
 },
 "nbformat": 4,
 "nbformat_minor": 5
}
