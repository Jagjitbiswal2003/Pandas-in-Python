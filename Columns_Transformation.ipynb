{
 "cells": [
  {
   "cell_type": "code",
   "execution_count": 6,
   "id": "41e2d092-1b04-4b17-a9ae-72a00d656ecb",
   "metadata": {},
   "outputs": [],
   "source": [
    "import pandas as pd"
   ]
  },
  {
   "cell_type": "code",
   "execution_count": 7,
   "id": "9c4f3cd2-97f5-41f0-947d-15dd24d59214",
   "metadata": {},
   "outputs": [
    {
     "name": "stdout",
     "output_type": "stream",
     "text": [
      "   EMPID   AGE GENDER   SALARY\n",
      "0      1  20.0      M  20000.0\n",
      "1      2  34.0    NaN  30000.0\n",
      "2      3  19.0      M  40000.0\n",
      "3      4  20.0      F  20000.0\n",
      "4      1   NaN      M      NaN\n"
     ]
    }
   ],
   "source": [
    "data = pd.read_excel(\"employee_data.xlsx\")\n",
    "print(data)"
   ]
  },
  {
   "cell_type": "code",
   "execution_count": 10,
   "id": "fe76da66-7f7a-495b-ac7d-20646a8e72d6",
   "metadata": {},
   "outputs": [
    {
     "name": "stdout",
     "output_type": "stream",
     "text": [
      "   EMPID   AGE GENDER   SALARY     Bonus  Total\n",
      "0      1  20.0      M  20000.0  No Bonus    NaN\n",
      "1      2  34.0    NaN  30000.0      1200    NaN\n",
      "2      3  19.0      M  40000.0      1200    NaN\n",
      "3      4  20.0      F  20000.0  No Bonus    NaN\n",
      "4      1   NaN      M      NaN   Invalid    NaN\n"
     ]
    },
    {
     "name": "stderr",
     "output_type": "stream",
     "text": [
      "C:\\Users\\jagji\\AppData\\Local\\Temp\\ipykernel_16416\\1360678491.py:2: FutureWarning: Setting an item of incompatible dtype is deprecated and will raise an error in a future version of pandas. Value 'No Bonus' has dtype incompatible with float64, please explicitly cast to a compatible dtype first.\n",
      "  data.loc[(data[\"SALARY\"] == 20000), \"Bonus\"] = \"No Bonus\"\n"
     ]
    }
   ],
   "source": [
    "# New coloumns Bonous create if the salary is above 20000 then we add bonous otherwise no bonous in the Bonous column\n",
    "data.loc[(data[\"SALARY\"] == 20000), \"Bonus\"] = \"No Bonus\"\n",
    "data.loc[(data[\"SALARY\"] > 20000), \"Bonus\"] = 1200\n",
    "data.loc[pd.isna(data[\"SALARY\"] ), \"Bonus\"] = \"Invalid\" #NaN value then bonous is invalid\n",
    "print(data)"
   ]
  },
  {
   "cell_type": "code",
   "execution_count": 11,
   "id": "07f7097c-d209-446f-b60e-69f140f3119b",
   "metadata": {},
   "outputs": [
    {
     "name": "stdout",
     "output_type": "stream",
     "text": [
      "   EMPID   AGE GENDER   SALARY   Bonus    Total\n",
      "0      1  20.0      M  20000.0     NaN      NaN\n",
      "1      2  34.0    NaN  30000.0  1200.0  31200.0\n",
      "2      3  19.0      M  40000.0  1200.0  41200.0\n",
      "3      4  20.0      F  20000.0     NaN      NaN\n",
      "4      1   NaN      M      NaN     NaN      NaN\n"
     ]
    }
   ],
   "source": [
    "# Convert columns to numeric, setting errors='coerce' will turn non-numeric values to NaN\n",
    "data[\"SALARY\"] = pd.to_numeric(data[\"SALARY\"], errors='coerce')\n",
    "data[\"Bonus\"] = pd.to_numeric(data[\"Bonus\"], errors='coerce')\n",
    "data[\"Total\"] = data[\"SALARY\"] + data[\"Bonus\"]\n",
    "print(data)"
   ]
  },
  {
   "cell_type": "code",
   "execution_count": null,
   "id": "8c916e5d-e97a-435a-8510-3e8c45e5ae03",
   "metadata": {},
   "outputs": [],
   "source": []
  }
 ],
 "metadata": {
  "kernelspec": {
   "display_name": "Python 3 (ipykernel)",
   "language": "python",
   "name": "python3"
  },
  "language_info": {
   "codemirror_mode": {
    "name": "ipython",
    "version": 3
   },
   "file_extension": ".py",
   "mimetype": "text/x-python",
   "name": "python",
   "nbconvert_exporter": "python",
   "pygments_lexer": "ipython3",
   "version": "3.12.3"
  }
 },
 "nbformat": 4,
 "nbformat_minor": 5
}
